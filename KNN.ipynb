{
 "cells": [
  {
   "cell_type": "code",
   "execution_count": 1,
   "metadata": {},
   "outputs": [],
   "source": [
    "import numpy as np\n",
    "from sklearn import datasets\n",
    "from sklearn.model_selection import train_test_split \n",
    "from sklearn import tree\n",
    "from sklearn.metrics import accuracy_score"
   ]
  },
  {
   "cell_type": "markdown",
   "metadata": {},
   "source": [
    "Import the dataset from sklearn datasets:"
   ]
  },
  {
   "cell_type": "code",
   "execution_count": 2,
   "metadata": {},
   "outputs": [],
   "source": [
    "iris = datasets.load_iris()\n",
    "\n",
    "X = iris.data #features\n",
    "Y = iris.target #targets"
   ]
  },
  {
   "cell_type": "markdown",
   "metadata": {},
   "source": [
    "Split data into training and testing 50/50:"
   ]
  },
  {
   "cell_type": "code",
   "execution_count": 3,
   "metadata": {},
   "outputs": [],
   "source": [
    "X_train, X_test, y_train, y_test = train_test_split(X,Y,test_size = .5)"
   ]
  },
  {
   "cell_type": "markdown",
   "metadata": {},
   "source": [
    "Apply a Descision Tree Classifier to the Data:"
   ]
  },
  {
   "cell_type": "code",
   "execution_count": 4,
   "metadata": {},
   "outputs": [
    {
     "name": "stdout",
     "output_type": "stream",
     "text": [
      "clf0 has  0.96  accuracy\n"
     ]
    }
   ],
   "source": [
    "clf0 = tree.DecisionTreeClassifier()\n",
    "clf0.fit(X_train, y_train)\n",
    "#get the tree's predictions on test data\n",
    "clf0_predictions = clf0.predict(X_test)\n",
    "print(\"clf0 has \", accuracy_score(y_test, clf0_predictions), \" accuracy\")"
   ]
  },
  {
   "cell_type": "markdown",
   "metadata": {},
   "source": [
    "Apply a K nearest neighbors classifier:"
   ]
  },
  {
   "cell_type": "code",
   "execution_count": 16,
   "metadata": {},
   "outputs": [],
   "source": [
    "import random\n",
    "from scipy.spatial import distance\n",
    "\n",
    "class ScrappyKNN():\n",
    "    \n",
    "    #does training\n",
    "    def fit(self,X,Y):\n",
    "        self.X = X\n",
    "        self.Y = Y\n",
    "        \n",
    "    #uses the trained classifier    \n",
    "    def predict(self,X_test):\n",
    "        predictions = []\n",
    "        for row in X_test:\n",
    "            label = self.closest(row)\n",
    "            predictions.append(label)\n",
    "        \n",
    "        return predictions\n",
    "\n",
    "    def euc(self,a,b):\n",
    "        return distance.euclidean(a,b)\n",
    "    \n",
    "    #this is particularly hardcoded for K = 1\n",
    "    def closest(self, row):\n",
    "        best_dist = self.euc(row,self.X[0]) #the closest point\n",
    "        best_indx = 0\n",
    "        #check if any other points have a shorter distance\n",
    "        for i in range(1, len(self.X)):\n",
    "            dist = self.euc(row, self.X[i])\n",
    "            if dist < best_dist:\n",
    "                best_dist = dist\n",
    "                best_indx = i\n",
    "        #return the label of the closest point        \n",
    "        return self.Y[best_indx]        \n",
    "    \n",
    "        "
   ]
  },
  {
   "cell_type": "code",
   "execution_count": 18,
   "metadata": {},
   "outputs": [
    {
     "name": "stdout",
     "output_type": "stream",
     "text": [
      "clf1 has  0.96  accuracy\n"
     ]
    }
   ],
   "source": [
    "clf1 = ScrappyKNN()\n",
    "clf1.fit(X_train, y_train)\n",
    "\n",
    "clf1_predictions = clf1.predict(X_test)\n",
    "print(\"clf1 has \", accuracy_score(y_test, clf1_predictions), \" accuracy\")"
   ]
  },
  {
   "cell_type": "code",
   "execution_count": null,
   "metadata": {},
   "outputs": [],
   "source": []
  }
 ],
 "metadata": {
  "kernelspec": {
   "display_name": "Python 3",
   "language": "python",
   "name": "python3"
  },
  "language_info": {
   "codemirror_mode": {
    "name": "ipython",
    "version": 3
   },
   "file_extension": ".py",
   "mimetype": "text/x-python",
   "name": "python",
   "nbconvert_exporter": "python",
   "pygments_lexer": "ipython3",
   "version": "3.6.9"
  }
 },
 "nbformat": 4,
 "nbformat_minor": 4
}
